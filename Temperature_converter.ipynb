{
  "nbformat": 4,
  "nbformat_minor": 0,
  "metadata": {
    "colab": {
      "provenance": [],
      "authorship_tag": "ABX9TyOMg/Hd/ZL1p7RJ2APicR54"
    },
    "kernelspec": {
      "name": "python3",
      "display_name": "Python 3"
    },
    "language_info": {
      "name": "python"
    }
  },
  "cells": [
    {
      "cell_type": "markdown",
      "source": [
        "# Temperature Conversion\n",
        "\n",
        "## Description:\n",
        "This project demonstrates a simple neural network built using TensorFlow to approximate the conversion between Celsius and Fahrenheit. The model is trained on a small dataset of temperature pairs and employs a single dense layer to predict Fahrenheit values from Celsius inputs.\n",
        "\n",
        "## Key components:\n",
        "\n",
        "### Data:\n",
        "\n",
        "Celsius values: [-40, -10, 0, 8, 15, 22, 38]\n",
        "\n",
        "Corresponding Fahrenheit values: [-40, 14, 32, 46, 59, 72, 100]\n",
        "\n",
        "### Architecture:\n",
        "\n",
        "A sequential model with a single dense layer (1 unit, linear activation).\n",
        "\n",
        "### Training:\n",
        "\n",
        "Optimizer: Adam with a learning rate of 0.1.\n",
        "\n",
        "Loss function: Mean squared error.\n",
        "\n",
        "Trained over 1000 epochs with loss history tracked.\n",
        "\n",
        "### Visualization:\n",
        "\n",
        "A plot of the loss magnitude over training cycles is generated to show the model's learning progress.\n",
        "\n",
        "## Result:\n",
        "After training, the model approximates the Fahrenheit conversion formula:\n",
        "\n",
        "𝐹=𝐶\n",
        "×\n",
        "1.8\n",
        "+\n",
        "32\n",
        "\n",
        "The trained weights suggest:\n",
        "\n",
        "𝐹=𝐶\n",
        "×\n",
        "1.79\n",
        "+\n",
        "31.9\n",
        ", a close approximation of the expected linear relationship."
      ],
      "metadata": {
        "id": "OL1ke_7QaG6I"
      }
    },
    {
      "cell_type": "code",
      "execution_count": 34,
      "metadata": {
        "id": "9gKcFbhEKTZC"
      },
      "outputs": [],
      "source": [
        "import tensorflow as tf\n",
        "import numpy as np"
      ]
    },
    {
      "cell_type": "code",
      "source": [
        "celsius = np.array([-40, -10, 0, 8, 15, 22, 38], dtype=float)\n",
        "fahrenheit = np.array([-40, 14, 32, 46, 59, 72, 100], dtype=float)"
      ],
      "metadata": {
        "id": "tBrs9qcWOrgM"
      },
      "execution_count": 35,
      "outputs": []
    },
    {
      "cell_type": "code",
      "source": [
        "model = tf.keras.Sequential([\n",
        "    tf.keras.layers.Input(shape=[1]),\n",
        "    tf.keras.layers.Dense(units=1)\n",
        "])"
      ],
      "metadata": {
        "id": "vCm1tTGiRQrW"
      },
      "execution_count": 42,
      "outputs": []
    },
    {
      "cell_type": "code",
      "source": [
        "model.compile(\n",
        "    optimizer = tf.keras.optimizers.Adam(0.1),\n",
        "    loss = 'mean_squared_error'\n",
        ")"
      ],
      "metadata": {
        "id": "qOHoj20MR2dF"
      },
      "execution_count": 43,
      "outputs": []
    },
    {
      "cell_type": "code",
      "source": [
        "print('Starting training...')\n",
        "history = model.fit(celsius, fahrenheit, epochs=1000, verbose=False)\n",
        "print('Model trained')"
      ],
      "metadata": {
        "colab": {
          "base_uri": "https://localhost:8080/"
        },
        "id": "b1X0LnPLScTe",
        "outputId": "f19d131d-d546-4f89-9b9c-dffd6a159743"
      },
      "execution_count": 45,
      "outputs": [
        {
          "output_type": "stream",
          "name": "stdout",
          "text": [
            "Starting training...\n",
            "Model trained\n"
          ]
        }
      ]
    },
    {
      "cell_type": "code",
      "source": [
        "import matplotlib.pyplot as plt\n",
        "plt.xlabel('#Cicle')\n",
        "plt.ylabel('Loss magnitude')\n",
        "plt.plot(history.history['loss'])"
      ],
      "metadata": {
        "colab": {
          "base_uri": "https://localhost:8080/",
          "height": 467
        },
        "id": "CWUmCICMTKvF",
        "outputId": "3603c9f7-5a99-4036-9c1e-fd2b6dbc81dd"
      },
      "execution_count": 46,
      "outputs": [
        {
          "output_type": "execute_result",
          "data": {
            "text/plain": [
              "[<matplotlib.lines.Line2D at 0x7f78a71be1d0>]"
            ]
          },
          "metadata": {},
          "execution_count": 46
        },
        {
          "output_type": "display_data",
          "data": {
            "text/plain": [
              "<Figure size 640x480 with 1 Axes>"
            ],
            "image/png": "[encoded data removed]"
          },
          "metadata": {}
        }
      ]
    },
    {
      "cell_type": "code",
      "source": [
        "input_data = np.array([[100]])\n",
        "result = model.predict(input_data)\n",
        "print('100 degrees Celsius are ' + str(result) + ' fahrenheit')"
      ],
      "metadata": {
        "id": "v-GxU26yUdZC"
      },
      "execution_count": null,
      "outputs": []
    },
    {
      "cell_type": "code",
      "source": [
        "weights = model.layers[0].get_weights()\n",
        "print(f\"Model Weights: {weights}\")"
      ],
      "metadata": {
        "colab": {
          "base_uri": "https://localhost:8080/"
        },
        "id": "tpwCimpDWgeX",
        "outputId": "a1b27c40-70e3-40d3-c9a8-9c06960f88e4"
      },
      "execution_count": 48,
      "outputs": [
        {
          "output_type": "stream",
          "name": "stdout",
          "text": [
            "Model Weights: [array([[1.7979496]], dtype=float32), array([31.952477], dtype=float32)]\n"
          ]
        }
      ]
    },
    {
      "cell_type": "code",
      "source": [
        "#Fahrenheit = celsius * 1,8 + 32\n",
        "#According to model, Fahrenheit = Celsius * 1,79 + 31.9"
      ],
      "metadata": {
        "id": "0QIe-rVGWoQP"
      },
      "execution_count": null,
      "outputs": []
    }
  ]
}